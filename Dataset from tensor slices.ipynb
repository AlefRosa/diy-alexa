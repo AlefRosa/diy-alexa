{
 "cells": [
  {
   "cell_type": "code",
   "execution_count": 4,
   "metadata": {},
   "outputs": [],
   "source": [
    "import tensorflow as tf\n",
    "from tensorflow.keras.models import Sequential\n",
    "from tensorflow.keras.layers import Dense\n",
    "from tensorflow.data import Dataset\n",
    "import numpy as np"
   ]
  },
  {
   "cell_type": "code",
   "execution_count": 10,
   "metadata": {},
   "outputs": [],
   "source": [
    "# generate training samples\n",
    "X = []\n",
    "Y = []\n",
    "\n",
    "for i in range(10):\n",
    "    # the label\n",
    "    Y.append(tf.one_hot(i, 10).numpy())\n",
    "    # the value\n",
    "    X.append(i/10)\n",
    "    \n",
    "X, Y\n",
    "\n",
    "train_dataset = Dataset.from_tensor_slices((X, Y))\n",
    "train_dataset = train_dataset.repeat(count=-1)\n",
    "train_dataset = train_dataset.shuffle(buffer_size=100)\n",
    "train_dataset = train_dataset.batch(20)"
   ]
  },
  {
   "cell_type": "code",
   "execution_count": 11,
   "metadata": {},
   "outputs": [
    {
     "name": "stdout",
     "output_type": "stream",
     "text": [
      "Model: \"sequential_1\"\n",
      "_________________________________________________________________\n",
      "Layer (type)                 Output Shape              Param #   \n",
      "=================================================================\n",
      "dense_1 (Dense)              (None, 10)                20        \n",
      "_________________________________________________________________\n",
      "output (Dense)               (None, 10)                110       \n",
      "=================================================================\n",
      "Total params: 130\n",
      "Trainable params: 130\n",
      "Non-trainable params: 0\n",
      "_________________________________________________________________\n",
      "Epoch 1/20\n",
      "10000/10000 [==============================] - 6s 584us/step - loss: 1.3481 - accuracy: 0.5974\n",
      "Epoch 2/20\n",
      "10000/10000 [==============================] - 6s 577us/step - loss: 0.6753 - accuracy: 0.8468\n",
      "Epoch 3/20\n",
      "10000/10000 [==============================] - 6s 585us/step - loss: 0.3449 - accuracy: 0.9909\n",
      "Epoch 4/20\n",
      "10000/10000 [==============================] - 6s 586us/step - loss: 0.1565 - accuracy: 1.0000\n",
      "Epoch 5/20\n",
      "10000/10000 [==============================] - 6s 582us/step - loss: 0.0765 - accuracy: 1.0000\n",
      "Epoch 6/20\n",
      "10000/10000 [==============================] - 6s 577us/step - loss: 0.0293 - accuracy: 1.0000\n",
      "Epoch 7/20\n",
      "10000/10000 [==============================] - 6s 580us/step - loss: 0.0088 - accuracy: 1.0000\n",
      "Epoch 8/20\n",
      "10000/10000 [==============================] - 6s 579us/step - loss: 0.0021 - accuracy: 1.0000\n",
      "Epoch 9/20\n",
      "10000/10000 [==============================] - 6s 580us/step - loss: 4.4572e-04 - accuracy: 1.0000\n",
      "Epoch 10/20\n",
      "10000/10000 [==============================] - 6s 576us/step - loss: 8.4461e-05 - accuracy: 1.0000\n",
      "Epoch 11/20\n",
      "10000/10000 [==============================] - 6s 581us/step - loss: 1.4839e-05 - accuracy: 1.0000\n",
      "Epoch 12/20\n",
      "10000/10000 [==============================] - 6s 577us/step - loss: 2.5816e-06 - accuracy: 1.0000\n",
      "Epoch 13/20\n",
      "10000/10000 [==============================] - 6s 581us/step - loss: 5.2976e-07 - accuracy: 1.0000\n",
      "Epoch 14/20\n",
      "10000/10000 [==============================] - 6s 584us/step - loss: 1.5797e-07 - accuracy: 1.0000\n",
      "Epoch 15/20\n",
      "10000/10000 [==============================] - 6s 579us/step - loss: 6.7483e-08 - accuracy: 1.0000\n",
      "Epoch 16/20\n",
      "10000/10000 [==============================] - 6s 580us/step - loss: 4.1038e-08 - accuracy: 1.0000\n",
      "Epoch 17/20\n",
      "10000/10000 [==============================] - 6s 580us/step - loss: 3.2204e-08 - accuracy: 1.0000\n",
      "Epoch 18/20\n",
      "10000/10000 [==============================] - 6s 586us/step - loss: 3.0987e-08 - accuracy: 1.0000\n",
      "Epoch 19/20\n",
      "10000/10000 [==============================] - 6s 581us/step - loss: 3.4817e-08 - accuracy: 1.0000\n",
      "Epoch 20/20\n",
      "10000/10000 [==============================] - 6s 585us/step - loss: 3.2886e-08 - accuracy: 1.0000\n"
     ]
    },
    {
     "data": {
      "text/plain": [
       "<tensorflow.python.keras.callbacks.History at 0x149ad13c8>"
      ]
     },
     "execution_count": 11,
     "metadata": {},
     "output_type": "execute_result"
    }
   ],
   "source": [
    "# simple mode\n",
    "model = Sequential([\n",
    "    Dense(\n",
    "        10,\n",
    "        activation='relu',\n",
    "        input_shape=(1,)\n",
    "    ),\n",
    "    Dense(10, activation='softmax', name='output')\n",
    "])\n",
    "\n",
    "model.summary()\n",
    "\n",
    "model.compile(optimizer='adam',\n",
    "              loss=tf.keras.losses.CategoricalCrossentropy(),\n",
    "              metrics=['accuracy'])\n",
    "model.fit(\n",
    "    train_dataset,\n",
    "    steps_per_epoch=10000,\n",
    "    epochs=20,\n",
    ")"
   ]
  },
  {
   "cell_type": "code",
   "execution_count": null,
   "metadata": {},
   "outputs": [],
   "source": []
  },
  {
   "cell_type": "code",
   "execution_count": null,
   "metadata": {},
   "outputs": [],
   "source": []
  }
 ],
 "metadata": {
  "kernelspec": {
   "display_name": "Python 3",
   "language": "python",
   "name": "python3"
  },
  "language_info": {
   "codemirror_mode": {
    "name": "ipython",
    "version": 3
   },
   "file_extension": ".py",
   "mimetype": "text/x-python",
   "name": "python",
   "nbconvert_exporter": "python",
   "pygments_lexer": "ipython3",
   "version": "3.7.3"
  }
 },
 "nbformat": 4,
 "nbformat_minor": 4
}
